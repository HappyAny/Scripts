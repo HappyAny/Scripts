{
 "cells": [
  {
   "cell_type": "code",
   "execution_count": 2,
   "metadata": {},
   "outputs": [
    {
     "name": "stdout",
     "output_type": "stream",
     "text": [
      "['microsoft_LightGBM', 'microsoft_botbuilder-dotnet', 'microsoft_vscode', 'microsoft_MixedRealityToolkit-Unity', 'microsoft_terminal', 'microsoft_SEAL', 'microsoft_FASTER', 'microsoft_pai', 'microsoft_ai-edu', 'microsoft_windows-dev-box-setup-scripts', 'microsoft_NeuronBlocks', 'microsoft_vcpkg', 'microsoft_azuredatastudio', 'microsoft_WebTemplateStudio', 'microsoft_Application-Insights-Workbooks', 'microsoft_WindowsTemplateStudio', 'microsoft_navcontainerhelper', 'microsoft_react-native-windows', 'microsoft_vscode-docs', 'microsoft_DLWorkspace', 'microsoft_vscode-azurelogicapps', 'microsoft_azure-pipelines-tasks', 'microsoft_mimalloc', 'microsoft_ICSE2019', 'microsoft_wil', 'microsoft_onnxruntime', 'microsoft_VFSForGit', 'microsoft_interpret', 'microsoft_pxt-common-packages', 'microsoft_pxt']\n",
      "30\n"
     ]
    }
   ],
   "source": [
    "#coding=utf-8\n",
    "import urllib.request as request\n",
    "import xml\n",
    "from bs4 import BeautifulSoup\n",
    "import os\n",
    "\n",
    "\n",
    "def urllib_download(pic_url, file_path):\n",
    "    from urllib.request import urlretrieve\n",
    "    urlretrieve(pic_url, file_path)\n",
    "\n",
    "def get_repo_url(soup):\n",
    "    repo_url=[]\n",
    "    name=[]\n",
    "    for i in soup.find_all('a',itemprop='name codeRepository'):\n",
    "        repo_url.append('https://github.com'+i['href']+'/archive/master.zip')\n",
    "        name.append(i['href'][1:].replace(\"/\", \"_\"))\n",
    "    return repo_url,name\n",
    "\n",
    "def get_one_page(url):\n",
    "    global opener\n",
    "    origin_bytes = opener.open( url ).read()\n",
    "    origin_string = origin_bytes.decode( 'utf-8' )\n",
    "    soup = BeautifulSoup(origin_string, \"lxml\")\n",
    "    return soup\n",
    "\n",
    "def get_repo_zip(file_path,repo_url,name):\n",
    "    print (\"Downloading repo=\"+name)\n",
    "    urllib_download(repo_url,file_path+name+'.png')\n",
    "    print (\"OK...repo=\"+name)\n",
    "    return\n",
    "    \n",
    "def main():\n",
    "    url = 'https://github.com/microsoft'\n",
    "    file_path='./github/'\n",
    "    os.makedirs(file_path, exist_ok=True)\n",
    "    headers = ('User-Agent','Mozilla/5.0 (Windows NT 6.1) AppleWebKit/537.11 (KHTML, like Gecko) Chrome/23.0.1271.64 Safari/537.11')\n",
    "    global opener\n",
    "    opener = request.build_opener()\n",
    "    opener.addheaders = [ headers ]\n",
    "    soup=get_one_page(url)\n",
    "    [repo_url,name]=get_repo_url(soup)\n",
    "    print(name)\n",
    "    print(len(name))\n",
    "    rcount=0\n",
    "    ecount=0\n",
    "    for i in range(len(name)):\n",
    "        try:\n",
    "            #get_repo_zip(file_path,repo_url[i],name[i])\n",
    "            rcount=rcount+1\n",
    "        except:\n",
    "            #print('Error for '+name)\n",
    "            ecount=ecount+1\n",
    "    count=rcount+ecount\n",
    "    #print ('Program Over.共下载'+str(count)+'个项目,'+str(rcount)+'个成功,'+str(ecount)+'个失败。')\n",
    "main()"
   ]
  },
  {
   "cell_type": "code",
   "execution_count": null,
   "metadata": {},
   "outputs": [],
   "source": []
  }
 ],
 "metadata": {
  "kernelspec": {
   "display_name": "Python 3",
   "language": "python",
   "name": "python3"
  },
  "language_info": {
   "codemirror_mode": {
    "name": "ipython",
    "version": 3
   },
   "file_extension": ".py",
   "mimetype": "text/x-python",
   "name": "python",
   "nbconvert_exporter": "python",
   "pygments_lexer": "ipython3",
   "version": "3.5.3"
  }
 },
 "nbformat": 4,
 "nbformat_minor": 2
}
